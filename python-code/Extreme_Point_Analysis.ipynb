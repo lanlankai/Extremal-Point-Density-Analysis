{
 "cells": [
  {
   "cell_type": "markdown",
   "id": "bright-challenge",
   "metadata": {},
   "source": [
    "This notebok is to perform a extreme-point-density analysis using the theory developed by Yongxiang HUANG et al.\n",
    "\n",
    "PHYSICAL REVIEW E 96, 012215 (2017) Extremal-point density of scaling processes: From fractional Brownian motion to turbulence in one dimension.\n",
    "\n",
    "The extremal point is defined as $x_{i-1}<x_i<x_{i+1}$ or vice verse. \n",
    "\n",
    "Considering a coarse grain of the time series $x(t)$ with a window size $\\tau$, the extremal point then satisfies,\n",
    "$$x[t-\\tau]<x[t] \\quad\\& \\quad x[t+1-\\tau]>x[t+1]$$"
   ]
  },
  {
   "cell_type": "code",
   "execution_count": 5,
   "id": "heated-bearing",
   "metadata": {},
   "outputs": [
    {
     "name": "stdout",
     "output_type": "stream",
     "text": [
      "Finish define function: 2021-02-04 21:53:10\n"
     ]
    }
   ],
   "source": [
    "%matplotlib inline\n",
    "import matplotlib.pyplot as plt\n",
    "import numba\n",
    "import time\n",
    "import datetime\n",
    "import numpy as np\n",
    "\n",
    "\n",
    "@numba.njit(fastmath=True)# define the EPD function\n",
    "def EPD_1d(x,Tau,Nx,NTau):\n",
    "    EPD=np.full((Nx,NTau),False)\n",
    "    for i in range(NTau):\n",
    "        for j in range(1+Tau[i],Nx-Tau[i]-1):\n",
    "            if ((x[j-Tau[i]]<x[j]) & (x[j+1-Tau[i]]>x[j+1])) |((x[j-Tau[i]]>x[j]) & (x[j+1-Tau[i]]<x[j+1])):\n",
    "                    EPD[j,i]=True\n",
    "    return EPD\n",
    "\n",
    "print('Finish define function:',datetime.datetime.now().strftime('%Y-%m-%d %H:%M:%S'))"
   ]
  },
  {
   "cell_type": "markdown",
   "id": "secret-luther",
   "metadata": {},
   "source": [
    "The Python version EPD code has been verified with the Matlab one. They provide the same results."
   ]
  },
  {
   "cell_type": "code",
   "execution_count": 6,
   "id": "prospective-radical",
   "metadata": {},
   "outputs": [
    {
     "data": {
      "text/plain": [
       "[<matplotlib.lines.Line2D at 0x7ff600fbec70>]"
      ]
     },
     "execution_count": 6,
     "metadata": {},
     "output_type": "execute_result"
    },
    {
     "data": {
      "image/png": "[encoded data removed]",
      "text/plain": [
       "<Figure size 432x288 with 1 Axes>"
      ]
     },
     "metadata": {
      "needs_background": "light"
     },
     "output_type": "display_data"
    }
   ],
   "source": [
    "Nx=1024000\n",
    "x=np.random.random(Nx)\n",
    "Nx=np.size(x)\n",
    "plt.plot(x)"
   ]
  },
  {
   "cell_type": "code",
   "execution_count": 10,
   "id": "inner-bleeding",
   "metadata": {},
   "outputs": [
    {
     "name": "stdout",
     "output_type": "stream",
     "text": [
      "Total time: 1.04  second.\n"
     ]
    }
   ],
   "source": [
    "Nx=np.size(x)\n",
    "Tau=np.arange(1,101)\n",
    "NTau=np.size(Tau)\n",
    "\n",
    "t0=time.time()\n",
    "EPD=EPD_1d(x,Tau,Nx,NTau)\n",
    "t=time.time()-t0\n",
    "print('Total time: {:.2f}'.format(t),' second.')"
   ]
  },
  {
   "cell_type": "code",
   "execution_count": 9,
   "id": "measured-processor",
   "metadata": {},
   "outputs": [
    {
     "data": {
      "text/plain": [
       "[<matplotlib.lines.Line2D at 0x7ff5e9f8bca0>]"
      ]
     },
     "execution_count": 9,
     "metadata": {},
     "output_type": "execute_result"
    },
    {
     "data": {
      "image/png": "[encoded data removed]",
      "text/plain": [
       "<Figure size 432x288 with 1 Axes>"
      ]
     },
     "metadata": {
      "needs_background": "light"
     },
     "output_type": "display_data"
    }
   ],
   "source": [
    "plt.plot(Tau,np.mean(EPD,axis=0)*Nx/(Nx-Tau),'-',mfc='none',ms=10)"
   ]
  }
 ],
 "metadata": {
  "kernelspec": {
   "display_name": "Python 3",
   "language": "python",
   "name": "python3"
  },
  "language_info": {
   "codemirror_mode": {
    "name": "ipython",
    "version": 3
   },
   "file_extension": ".py",
   "mimetype": "text/x-python",
   "name": "python",
   "nbconvert_exporter": "python",
   "pygments_lexer": "ipython3",
   "version": "3.8.6"
  }
 },
 "nbformat": 4,
 "nbformat_minor": 5
}
